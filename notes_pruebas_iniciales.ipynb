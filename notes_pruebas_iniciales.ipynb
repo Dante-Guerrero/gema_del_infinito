{
 "cells": [
  {
   "cell_type": "code",
   "execution_count": null,
   "metadata": {},
   "outputs": [],
   "source": [
    "import os\n",
    "import shutil\n",
    "import pytesseract\n",
    "from PIL import Image\n",
    "from pdf2image import convert_from_path\n",
    "from PyPDF2 import PdfFileReader"
   ]
  },
  {
   "cell_type": "code",
   "execution_count": null,
   "metadata": {},
   "outputs": [],
   "source": [
    "# Path to the folder containing PDF files\n",
    "input_folder = \"input\"\n",
    "\n",
    "# Path to the folder where text files will be saved\n",
    "output_folder = \"output2\"\n",
    "\n",
    "# Path to the Tesseract OCR executable (change if necessary)\n",
    "pytesseract.pytesseract.tesseract_cmd = r\"C:\\Program Files\\Tesseract-OCR\\tesseract.exe\"\n",
    "\n",
    "# defining the function to ignore the files\n",
    "# if present in any folder\n",
    "def ignore_files(dir, files):\n",
    "    return [f for f in files if os.path.isfile(os.path.join(dir, f))]\n",
    " \n",
    "# calling the shutil.copytree() method and\n",
    "# passing the src,dst,and ignore parameter\n",
    "shutil.copytree(input_folder,\n",
    "                output_folder,\n",
    "                ignore=ignore_files)\n",
    "\n",
    "# Get a list of all PDF files in the input folder\n",
    "archivos = []\n",
    "for path, subdirs, files in os.walk(input_folder):\n",
    "    for name in files:\n",
    "        archivos.append(os.path.join(path, name))\n"
   ]
  },
  {
   "cell_type": "code",
   "execution_count": 24,
   "metadata": {},
   "outputs": [
    {
     "ename": "PermissionError",
     "evalue": "[Errno 13] Permission denied: '\\\\DEMANDA H.C. - 4951-2023.txt'",
     "output_type": "error",
     "traceback": [
      "\u001b[1;31m---------------------------------------------------------------------------\u001b[0m",
      "\u001b[1;31mPermissionError\u001b[0m                           Traceback (most recent call last)",
      "\u001b[1;32mc:\\Users\\dguerrero\\Documents\\github\\gema_del_infinito\\notes_pruebas_iniciales.ipynb Cell 3\u001b[0m line \u001b[0;36m1\n\u001b[0;32m     <a href='vscode-notebook-cell:/c%3A/Users/dguerrero/Documents/github/gema_del_infinito/notes_pruebas_iniciales.ipynb#W4sZmlsZQ%3D%3D?line=11'>12</a>\u001b[0m         text \u001b[39m+\u001b[39m\u001b[39m=\u001b[39m pytesseract\u001b[39m.\u001b[39mimage_to_string(image, lang\u001b[39m=\u001b[39m\u001b[39m'\u001b[39m\u001b[39mspa\u001b[39m\u001b[39m'\u001b[39m) \u001b[39m# Descargar el lenguaje en: https://github.com/tesseract-ocr/tessdata_best\u001b[39;00m\n\u001b[0;32m     <a href='vscode-notebook-cell:/c%3A/Users/dguerrero/Documents/github/gema_del_infinito/notes_pruebas_iniciales.ipynb#W4sZmlsZQ%3D%3D?line=13'>14</a>\u001b[0m     \u001b[39m# Save the extracted text to a text file\u001b[39;00m\n\u001b[1;32m---> <a href='vscode-notebook-cell:/c%3A/Users/dguerrero/Documents/github/gema_del_infinito/notes_pruebas_iniciales.ipynb#W4sZmlsZQ%3D%3D?line=14'>15</a>\u001b[0m     \u001b[39mwith\u001b[39;00m \u001b[39mopen\u001b[39;49m(txt_path, \u001b[39m\"\u001b[39;49m\u001b[39mw\u001b[39;49m\u001b[39m\"\u001b[39;49m, encoding\u001b[39m=\u001b[39;49m\u001b[39m\"\u001b[39;49m\u001b[39mutf-8\u001b[39;49m\u001b[39m\"\u001b[39;49m) \u001b[39mas\u001b[39;00m txt_file:\n\u001b[0;32m     <a href='vscode-notebook-cell:/c%3A/Users/dguerrero/Documents/github/gema_del_infinito/notes_pruebas_iniciales.ipynb#W4sZmlsZQ%3D%3D?line=15'>16</a>\u001b[0m         txt_file\u001b[39m.\u001b[39mwrite(text)\n\u001b[0;32m     <a href='vscode-notebook-cell:/c%3A/Users/dguerrero/Documents/github/gema_del_infinito/notes_pruebas_iniciales.ipynb#W4sZmlsZQ%3D%3D?line=17'>18</a>\u001b[0m \u001b[39mprint\u001b[39m(\u001b[39m\"\u001b[39m\u001b[39mConversion complete!\u001b[39m\u001b[39m\"\u001b[39m)\n",
      "File \u001b[1;32m~\\AppData\\Roaming\\Python\\Python311\\site-packages\\IPython\\core\\interactiveshell.py:286\u001b[0m, in \u001b[0;36m_modified_open\u001b[1;34m(file, *args, **kwargs)\u001b[0m\n\u001b[0;32m    279\u001b[0m \u001b[39mif\u001b[39;00m file \u001b[39min\u001b[39;00m {\u001b[39m0\u001b[39m, \u001b[39m1\u001b[39m, \u001b[39m2\u001b[39m}:\n\u001b[0;32m    280\u001b[0m     \u001b[39mraise\u001b[39;00m \u001b[39mValueError\u001b[39;00m(\n\u001b[0;32m    281\u001b[0m         \u001b[39mf\u001b[39m\u001b[39m\"\u001b[39m\u001b[39mIPython won\u001b[39m\u001b[39m'\u001b[39m\u001b[39mt let you open fd=\u001b[39m\u001b[39m{\u001b[39;00mfile\u001b[39m}\u001b[39;00m\u001b[39m by default \u001b[39m\u001b[39m\"\u001b[39m\n\u001b[0;32m    282\u001b[0m         \u001b[39m\"\u001b[39m\u001b[39mas it is likely to crash IPython. If you know what you are doing, \u001b[39m\u001b[39m\"\u001b[39m\n\u001b[0;32m    283\u001b[0m         \u001b[39m\"\u001b[39m\u001b[39myou can use builtins\u001b[39m\u001b[39m'\u001b[39m\u001b[39m open.\u001b[39m\u001b[39m\"\u001b[39m\n\u001b[0;32m    284\u001b[0m     )\n\u001b[1;32m--> 286\u001b[0m \u001b[39mreturn\u001b[39;00m io_open(file, \u001b[39m*\u001b[39;49margs, \u001b[39m*\u001b[39;49m\u001b[39m*\u001b[39;49mkwargs)\n",
      "\u001b[1;31mPermissionError\u001b[0m: [Errno 13] Permission denied: '\\\\DEMANDA H.C. - 4951-2023.txt'"
     ]
    }
   ],
   "source": [
    "# Loop through each PDF file and convert it to text using OCR\n",
    "for archivo in archivos:\n",
    "    pdf_path = archivo\n",
    "    archivo_n = archivo[len(input_folder):]\n",
    "    txt_path = os.path.join(output_folder, os.path.splitext(archivo_n)[0] + \".txt\")\n",
    "    # Convert PDF pages to images\n",
    "    images = convert_from_path(pdf_path, poppler_path=r'C:\\Program Files\\poppler-23.08.0\\Library\\bin') # Descargar poppler de: https://github.com/oschwartz10612/poppler-windows/releases/tag/v23.08.0-0\n",
    "    # Perform OCR on images and extract text\n",
    "    text = \"\"\n",
    "    for image in images:\n",
    "        # text += pytesseract.image_to_string(image)\n",
    "        text += pytesseract.image_to_string(image, lang='spa') # Descargar el lenguaje en: https://github.com/tesseract-ocr/tessdata_best\n",
    "\n",
    "    # Save the extracted text to a text file\n",
    "    with open(txt_path, \"w\", encoding=\"utf-8\") as txt_file:\n",
    "        txt_file.write(text)\n",
    "\n",
    "print(\"Conversion complete!\")"
   ]
  },
  {
   "cell_type": "code",
   "execution_count": 22,
   "metadata": {},
   "outputs": [
    {
     "data": {
      "text/plain": [
       "'\\\\DEMANDA H.C. - 4951-2023.txt'"
      ]
     },
     "execution_count": 22,
     "metadata": {},
     "output_type": "execute_result"
    }
   ],
   "source": [
    "archivo = archivos[0]\n",
    "archivo_n = archivo[len(input_folder):]\n",
    "txt_path = os.path.join(output_folder, os.path.splitext(archivo_n)[0] + \".txt\")\n",
    "txt_path"
   ]
  },
  {
   "cell_type": "code",
   "execution_count": null,
   "metadata": {},
   "outputs": [],
   "source": [
    "# Loop through each PDF file and convert it to text using OCR\n",
    "for file in files:\n",
    "    pdf_path = os.path.join(input_folder, file)\n",
    "    txt_path = os.path.join(output_folder, os.path.splitext(file)[0] + \".txt\")\n",
    "    # Convert PDF pages to images\n",
    "    images = convert_from_path(pdf_path, poppler_path=r'C:\\Program Files\\poppler-23.08.0\\Library\\bin') # Descargar poppler de: https://github.com/oschwartz10612/poppler-windows/releases/tag/v23.08.0-0\n",
    "    # Perform OCR on images and extract text\n",
    "    text = \"\"\n",
    "    for image in images:\n",
    "        # text += pytesseract.image_to_string(image)\n",
    "        text += pytesseract.image_to_string(image, lang='spa') # Descargar el lenguaje en: https://github.com/tesseract-ocr/tessdata_best\n",
    "\n",
    "    # Save the extracted text to a text file\n",
    "    with open(txt_path, \"w\", encoding=\"utf-8\") as txt_file:\n",
    "        txt_file.write(text)\n",
    "\n",
    "print(\"Conversion complete!\")"
   ]
  },
  {
   "cell_type": "code",
   "execution_count": null,
   "metadata": {},
   "outputs": [],
   "source": [
    "from os import walk, getcwd\n",
    "\n",
    "def ls(ruta = getcwd()):\n",
    "    listaarchivos = []\n",
    "    for (_, _, archivos) in walk(ruta):\n",
    "        listaarchivos.extend(archivos)\n",
    "    return listaarchivos\n",
    "\n",
    "ls(\"input\")"
   ]
  }
 ],
 "metadata": {
  "kernelspec": {
   "display_name": "Python 3",
   "language": "python",
   "name": "python3"
  },
  "language_info": {
   "codemirror_mode": {
    "name": "ipython",
    "version": 3
   },
   "file_extension": ".py",
   "mimetype": "text/x-python",
   "name": "python",
   "nbconvert_exporter": "python",
   "pygments_lexer": "ipython3",
   "version": "3.11.4"
  },
  "orig_nbformat": 4
 },
 "nbformat": 4,
 "nbformat_minor": 2
}
