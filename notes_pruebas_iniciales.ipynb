{
 "cells": [
  {
   "cell_type": "code",
   "execution_count": 1,
   "metadata": {},
   "outputs": [],
   "source": [
    "import os\n",
    "import shutil\n",
    "import pytesseract\n",
    "from PIL import Image\n",
    "from pdf2image import convert_from_path\n",
    "from PyPDF2 import PdfFileReader"
   ]
  },
  {
   "cell_type": "code",
   "execution_count": 2,
   "metadata": {},
   "outputs": [],
   "source": [
    "# Path to the folder containing PDF files\n",
    "input_folder = \"input\"\n",
    "\n",
    "# Path to the folder where text files will be saved\n",
    "output_folder = \"output2\"\n",
    "\n",
    "# Path to the Tesseract OCR executable (change if necessary)\n",
    "pytesseract.pytesseract.tesseract_cmd = r\"C:\\Program Files\\Tesseract-OCR\\tesseract.exe\"\n",
    "\n",
    "# defining the function to ignore the files\n",
    "# if present in any folder\n",
    "def ignore_files(dir, files):\n",
    "    return [f for f in files if os.path.isfile(os.path.join(dir, f))]\n",
    " \n",
    "# calling the shutil.copytree() method and\n",
    "# passing the src,dst,and ignore parameter\n",
    "shutil.copytree(input_folder,\n",
    "                output_folder,\n",
    "                ignore=ignore_files)\n",
    "\n",
    "# Get a list of all PDF files in the input folder\n",
    "archivos = []\n",
    "for path, subdirs, files in os.walk(input_folder):\n",
    "    for name in files:\n",
    "        archivos.append(os.path.join(path, name))\n"
   ]
  },
  {
   "cell_type": "code",
   "execution_count": 8,
   "metadata": {},
   "outputs": [
    {
     "name": "stdout",
     "output_type": "stream",
     "text": [
      "Conversion complete!\n"
     ]
    }
   ],
   "source": [
    "# Loop through each PDF file and convert it to text using OCR\n",
    "for archivo in archivos:\n",
    "    pdf_path = archivo\n",
    "    archivo_n = archivo[len(input_folder):]\n",
    "    txt_path = output_folder + os.path.splitext(archivo_n)[0] + \".txt\"\n",
    "\n",
    "    # Convert PDF pages to images\n",
    "    images = convert_from_path(pdf_path, poppler_path=r'C:\\Program Files\\poppler-23.08.0\\Library\\bin') # Descargar poppler de: https://github.com/oschwartz10612/poppler-windows/releases/tag/v23.08.0-0\n",
    "    # Perform OCR on images and extract text\n",
    "    text = \"\"\n",
    "    for image in images:\n",
    "        # text += pytesseract.image_to_string(image)\n",
    "        text += pytesseract.image_to_string(image, lang='spa') # Descargar el lenguaje en: https://github.com/tesseract-ocr/tessdata_best\n",
    "\n",
    "    # Save the extracted text to a text file\n",
    "    with open(txt_path, \"w\", encoding=\"utf-8\") as txt_file:\n",
    "        txt_file.write(text)\n",
    "\n",
    "print(\"Conversion complete!\")\n"
   ]
  },
  {
   "cell_type": "code",
   "execution_count": null,
   "metadata": {},
   "outputs": [],
   "source": []
  },
  {
   "cell_type": "code",
   "execution_count": 22,
   "metadata": {},
   "outputs": [
    {
     "data": {
      "text/plain": [
       "'\\\\DEMANDA H.C. - 4951-2023.txt'"
      ]
     },
     "execution_count": 22,
     "metadata": {},
     "output_type": "execute_result"
    }
   ],
   "source": [
    "archivo = archivos[0]\n",
    "archivo_n = archivo[len(input_folder):]\n",
    "txt_path = os.path.join(output_folder, os.path.splitext(archivo_n)[0] + \".txt\")\n",
    "txt_path"
   ]
  },
  {
   "cell_type": "code",
   "execution_count": null,
   "metadata": {},
   "outputs": [],
   "source": [
    "# Loop through each PDF file and convert it to text using OCR\n",
    "for file in files:\n",
    "    pdf_path = os.path.join(input_folder, file)\n",
    "    txt_path = os.path.join(output_folder, os.path.splitext(file)[0] + \".txt\")\n",
    "    # Convert PDF pages to images\n",
    "    images = convert_from_path(pdf_path, poppler_path=r'C:\\Program Files\\poppler-23.08.0\\Library\\bin') # Descargar poppler de: https://github.com/oschwartz10612/poppler-windows/releases/tag/v23.08.0-0\n",
    "    # Perform OCR on images and extract text\n",
    "    text = \"\"\n",
    "    for image in images:\n",
    "        # text += pytesseract.image_to_string(image)\n",
    "        text += pytesseract.image_to_string(image, lang='spa') # Descargar el lenguaje en: https://github.com/tesseract-ocr/tessdata_best\n",
    "\n",
    "    # Save the extracted text to a text file\n",
    "    with open(txt_path, \"w\", encoding=\"utf-8\") as txt_file:\n",
    "        txt_file.write(text)\n",
    "\n",
    "print(\"Conversion complete!\")"
   ]
  },
  {
   "cell_type": "code",
   "execution_count": null,
   "metadata": {},
   "outputs": [],
   "source": [
    "from os import walk, getcwd\n",
    "\n",
    "def ls(ruta = getcwd()):\n",
    "    listaarchivos = []\n",
    "    for (_, _, archivos) in walk(ruta):\n",
    "        listaarchivos.extend(archivos)\n",
    "    return listaarchivos\n",
    "\n",
    "ls(\"input\")"
   ]
  }
 ],
 "metadata": {
  "kernelspec": {
   "display_name": "Python 3",
   "language": "python",
   "name": "python3"
  },
  "language_info": {
   "codemirror_mode": {
    "name": "ipython",
    "version": 3
   },
   "file_extension": ".py",
   "mimetype": "text/x-python",
   "name": "python",
   "nbconvert_exporter": "python",
   "pygments_lexer": "ipython3",
   "version": "3.10.5"
  },
  "orig_nbformat": 4
 },
 "nbformat": 4,
 "nbformat_minor": 2
}
