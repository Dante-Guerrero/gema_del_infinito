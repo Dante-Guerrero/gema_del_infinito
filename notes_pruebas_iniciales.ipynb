{
 "cells": [
  {
   "cell_type": "code",
   "execution_count": 1,
   "metadata": {},
   "outputs": [],
   "source": [
    "from apoyo.expresiones import expresiones_excluidas\n",
    "\n",
    "import os\n",
    "import shutil\n",
    "import pytesseract\n",
    "import pandas as pd\n",
    "from PIL import Image\n",
    "from pdf2image import convert_from_path\n",
    "from PyPDF2 import PdfFileReader"
   ]
  },
  {
   "cell_type": "code",
   "execution_count": null,
   "metadata": {},
   "outputs": [],
   "source": [
    "# Path to the folder containing PDF files\n",
    "input_folder = \"input\"\n",
    "\n",
    "# Path to the folder where text files will be saved\n",
    "output_folder = \"output\"\n",
    "\n",
    "# Path to the Tesseract OCR executable (change if necessary)\n",
    "pytesseract.pytesseract.tesseract_cmd = r\"C:\\Program Files\\Tesseract-OCR\\tesseract.exe\"\n",
    "\n",
    "# defining the function to ignore the files\n",
    "# if present in any folder\n",
    "def ignore_files(dir, files):\n",
    "    return [f for f in files if os.path.isfile(os.path.join(dir, f))]\n",
    " \n",
    "# calling the shutil.copytree() method and\n",
    "# passing the src,dst,and ignore parameter\n",
    "shutil.copytree(input_folder,\n",
    "                output_folder,\n",
    "                ignore=ignore_files, \n",
    "                dirs_exist_ok=True)\n",
    "\n",
    "# Get a list of all PDF files in the input folder\n",
    "archivos = []\n",
    "for path, subdirs, files in os.walk(input_folder):\n",
    "    for name in files:\n",
    "        archivos.append(os.path.join(path, name))\n"
   ]
  },
  {
   "cell_type": "code",
   "execution_count": null,
   "metadata": {},
   "outputs": [],
   "source": [
    "# Loop through each PDF file and convert it to text using OCR\n",
    "for archivo in archivos:\n",
    "    pdf_path = archivo\n",
    "    archivo_n = archivo[len(input_folder):]\n",
    "    txt_path = output_folder + os.path.splitext(archivo_n)[0] + \".txt\"\n",
    "\n",
    "    # Convert PDF pages to images\n",
    "    images = convert_from_path(pdf_path, poppler_path=r'C:\\Program Files\\poppler-23.08.0\\Library\\bin') # Descargar poppler de: https://github.com/oschwartz10612/poppler-windows/releases/tag/v23.08.0-0\n",
    "    # Perform OCR on images and extract text\n",
    "    text = \"\"\n",
    "    for image in images:\n",
    "        # text += pytesseract.image_to_string(image)\n",
    "        text += pytesseract.image_to_string(image, lang='spa') # Descargar el lenguaje en: https://github.com/tesseract-ocr/tessdata_best\n",
    "\n",
    "    # Save the extracted text to a text file\n",
    "    with open(txt_path, \"w\", encoding=\"utf-8\") as txt_file:\n",
    "        txt_file.write(text)\n",
    "\n",
    "print(\"Conversion complete!\")\n"
   ]
  },
  {
   "cell_type": "markdown",
   "metadata": {},
   "source": [
    "### ANÁLISIS"
   ]
  },
  {
   "cell_type": "code",
   "execution_count": 2,
   "metadata": {},
   "outputs": [
    {
     "data": {
      "text/plain": [
       "5624"
      ]
     },
     "execution_count": 2,
     "metadata": {},
     "output_type": "execute_result"
    }
   ],
   "source": [
    "import re\n",
    "\n",
    "def eliminar_puntuacion(texto_minuscula):\n",
    "    \"\"\"La función eliminar_puntuación recibe la variable texto_minuscula elimina los signos de puntuación\n",
    "    de la lista de palabras y retorna el texto sin signos de puntuación\"\"\"\n",
    "    lista = []\n",
    "    lista.append(texto_minuscula)\n",
    "    texto_m_sp = re.sub(r'[^\\w\\s]', '', texto_minuscula)\n",
    "    return texto_m_sp\n",
    "\n",
    "stop_words=open('output2/resos/31-2021-CCD.txt','r')\n",
    "lineas = [linea.split() for linea in stop_words]\n",
    "total=list()\n",
    "for linea in lineas: \n",
    "    total+=linea\n",
    "len(total)"
   ]
  },
  {
   "cell_type": "code",
   "execution_count": 3,
   "metadata": {},
   "outputs": [
    {
     "data": {
      "text/plain": [
       "990"
      ]
     },
     "execution_count": 3,
     "metadata": {},
     "output_type": "execute_result"
    }
   ],
   "source": [
    "for i in range(len(total)):\n",
    "    total[i] = total[i].lower()\n",
    "    total[i] = eliminar_puntuacion(total[i])\n",
    "\n",
    "total2 = set(total)\n",
    "\n",
    "len(total2)"
   ]
  },
  {
   "cell_type": "code",
   "execution_count": 4,
   "metadata": {},
   "outputs": [
    {
     "data": {
      "text/plain": [
       "928"
      ]
     },
     "execution_count": 4,
     "metadata": {},
     "output_type": "execute_result"
    }
   ],
   "source": [
    "res = [i for i in total2 if i not in expresiones_excluidas]\n",
    "len(res)"
   ]
  },
  {
   "cell_type": "code",
   "execution_count": 5,
   "metadata": {},
   "outputs": [
    {
     "data": {
      "text/html": [
       "<div>\n",
       "<style scoped>\n",
       "    .dataframe tbody tr th:only-of-type {\n",
       "        vertical-align: middle;\n",
       "    }\n",
       "\n",
       "    .dataframe tbody tr th {\n",
       "        vertical-align: top;\n",
       "    }\n",
       "\n",
       "    .dataframe thead th {\n",
       "        text-align: right;\n",
       "    }\n",
       "</style>\n",
       "<table border=\"1\" class=\"dataframe\">\n",
       "  <thead>\n",
       "    <tr style=\"text-align: right;\">\n",
       "      <th></th>\n",
       "      <th>palabra</th>\n",
       "      <th>contar</th>\n",
       "    </tr>\n",
       "  </thead>\n",
       "  <tbody>\n",
       "    <tr>\n",
       "      <th>0</th>\n",
       "      <td></td>\n",
       "      <td>60</td>\n",
       "    </tr>\n",
       "    <tr>\n",
       "      <th>804</th>\n",
       "      <td>competencia</td>\n",
       "      <td>51</td>\n",
       "    </tr>\n",
       "    <tr>\n",
       "      <th>791</th>\n",
       "      <td>comisión</td>\n",
       "      <td>42</td>\n",
       "    </tr>\n",
       "    <tr>\n",
       "      <th>589</th>\n",
       "      <td>para</td>\n",
       "      <td>37</td>\n",
       "    </tr>\n",
       "    <tr>\n",
       "      <th>94</th>\n",
       "      <td>desleal</td>\n",
       "      <td>36</td>\n",
       "    </tr>\n",
       "    <tr>\n",
       "      <th>...</th>\n",
       "      <td>...</td>\n",
       "      <td>...</td>\n",
       "    </tr>\n",
       "    <tr>\n",
       "      <th>183</th>\n",
       "      <td>está</td>\n",
       "      <td>1</td>\n",
       "    </tr>\n",
       "    <tr>\n",
       "      <th>546</th>\n",
       "      <td>concurrir</td>\n",
       "      <td>1</td>\n",
       "    </tr>\n",
       "    <tr>\n",
       "      <th>545</th>\n",
       "      <td>afectación</td>\n",
       "      <td>1</td>\n",
       "    </tr>\n",
       "    <tr>\n",
       "      <th>185</th>\n",
       "      <td>27444</td>\n",
       "      <td>1</td>\n",
       "    </tr>\n",
       "    <tr>\n",
       "      <th>464</th>\n",
       "      <td>multiplicado</td>\n",
       "      <td>1</td>\n",
       "    </tr>\n",
       "  </tbody>\n",
       "</table>\n",
       "<p>928 rows × 2 columns</p>\n",
       "</div>"
      ],
      "text/plain": [
       "          palabra  contar\n",
       "0                      60\n",
       "804   competencia      51\n",
       "791      comisión      42\n",
       "589          para      37\n",
       "94        desleal      36\n",
       "..            ...     ...\n",
       "183          está       1\n",
       "546     concurrir       1\n",
       "545    afectación       1\n",
       "185         27444       1\n",
       "464  multiplicado       1\n",
       "\n",
       "[928 rows x 2 columns]"
      ]
     },
     "execution_count": 5,
     "metadata": {},
     "output_type": "execute_result"
    }
   ],
   "source": [
    "df2 = pd.DataFrame(res, columns=['palabra'])\n",
    "df2['contar'] = df2['palabra'].apply(lambda x: total.count(x))\n",
    "df2.sort_values(by=['contar'], inplace=True, ascending=False)\n",
    "df2"
   ]
  }
 ],
 "metadata": {
  "kernelspec": {
   "display_name": "Python 3",
   "language": "python",
   "name": "python3"
  },
  "language_info": {
   "codemirror_mode": {
    "name": "ipython",
    "version": 3
   },
   "file_extension": ".py",
   "mimetype": "text/x-python",
   "name": "python",
   "nbconvert_exporter": "python",
   "pygments_lexer": "ipython3",
   "version": "3.11.4"
  },
  "orig_nbformat": 4
 },
 "nbformat": 4,
 "nbformat_minor": 2
}
