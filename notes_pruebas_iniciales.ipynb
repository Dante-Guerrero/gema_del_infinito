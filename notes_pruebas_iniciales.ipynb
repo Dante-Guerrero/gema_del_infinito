{
 "cells": [
  {
   "cell_type": "code",
   "execution_count": null,
   "metadata": {},
   "outputs": [],
   "source": [
    "import os\n",
    "import pytesseract\n",
    "from PIL import Image\n",
    "from pdf2image import convert_from_path\n",
    "from PyPDF2 import PdfFileReader"
   ]
  },
  {
   "cell_type": "code",
   "execution_count": 13,
   "metadata": {},
   "outputs": [],
   "source": [
    "# Path to the folder containing PDF files\n",
    "input_folder = \"input\"\n",
    "\n",
    "# Path to the folder where text files will be saved\n",
    "output_folder = \"output\"\n",
    "\n",
    "# Path to the Tesseract OCR executable (change if necessary)\n",
    "pytesseract.pytesseract.tesseract_cmd = r\"C:\\Program Files\\Tesseract-OCR\\tesseract.exe\"\n",
    "\n",
    "# Get a list of all PDF files in the input folder\n",
    "files = [f for f in os.listdir(input_folder) if f.endswith(\".pdf\")]\n"
   ]
  },
  {
   "cell_type": "code",
   "execution_count": 14,
   "metadata": {},
   "outputs": [
    {
     "name": "stdout",
     "output_type": "stream",
     "text": [
      "Conversion complete!\n"
     ]
    }
   ],
   "source": [
    "# Loop through each PDF file and convert it to text using OCR\n",
    "for file in files:\n",
    "    pdf_path = os.path.join(input_folder, file)\n",
    "    txt_path = os.path.join(output_folder, os.path.splitext(file)[0] + \".txt\")\n",
    "    # Convert PDF pages to images\n",
    "    images = convert_from_path(pdf_path, poppler_path=r'C:\\Program Files\\poppler-23.08.0\\Library\\bin') # Descargar poppler de: https://github.com/oschwartz10612/poppler-windows/releases/tag/v23.08.0-0\n",
    "    # Perform OCR on images and extract text\n",
    "    text = \"\"\n",
    "    for image in images:\n",
    "        # text += pytesseract.image_to_string(image)\n",
    "        text += pytesseract.image_to_string(image, lang='spa') # Descargar el lenguaje en: https://github.com/tesseract-ocr/tessdata_best\n",
    "\n",
    "    # Save the extracted text to a text file\n",
    "    with open(txt_path, \"w\", encoding=\"utf-8\") as txt_file:\n",
    "        txt_file.write(text)\n",
    "\n",
    "print(\"Conversion complete!\")"
   ]
  },
  {
   "cell_type": "code",
   "execution_count": null,
   "metadata": {},
   "outputs": [],
   "source": [
    "\n",
    "\n",
    "    # Perform OCR on images and extract text\n",
    "    text = \"\"\n",
    "    for image in images:\n",
    "        # text += pytesseract.image_to_string(image)\n",
    "        text += pytesseract.image_to_string(image, lang='ron') # your document language\n",
    "\n",
    "    # Save the extracted text to a text file\n",
    "    with open(txt_path, \"w\", encoding=\"utf-8\") as txt_file:\n",
    "        txt_file.write(text)\n",
    "\n",
    "print(\"Conversion complete!\")"
   ]
  }
 ],
 "metadata": {
  "kernelspec": {
   "display_name": "Python 3",
   "language": "python",
   "name": "python3"
  },
  "language_info": {
   "codemirror_mode": {
    "name": "ipython",
    "version": 3
   },
   "file_extension": ".py",
   "mimetype": "text/x-python",
   "name": "python",
   "nbconvert_exporter": "python",
   "pygments_lexer": "ipython3",
   "version": "3.11.4"
  },
  "orig_nbformat": 4
 },
 "nbformat": 4,
 "nbformat_minor": 2
}
